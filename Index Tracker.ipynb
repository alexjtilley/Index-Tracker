{
 "cells": [
  {
   "cell_type": "code",
   "execution_count": 2,
   "metadata": {},
   "outputs": [
    {
     "name": "stdout",
     "output_type": "stream",
     "text": [
      "Collecting bdd_tester\n",
      "  Downloading https://files.pythonhosted.org/packages/8a/3a/48ccfff5ba9f3321d33a2680d2dc8cafafda83413cea8f37003be00f7ec9/bdd_tester-0.0.5-py2.py3-none-any.whl\n",
      "Collecting gherkin-official (from bdd_tester)\n",
      "  Downloading https://files.pythonhosted.org/packages/ba/f7/9e298a945b3982b9482c0a200d765772dcb4678e43c7257d2edfe1f6524e/gherkin-official-4.1.3.tar.gz\n",
      "Requirement already satisfied: six in c:\\users\\alextilley\\anaconda3\\lib\\site-packages (from bdd_tester) (1.12.0)\n",
      "Building wheels for collected packages: gherkin-official\n",
      "  Running setup.py bdist_wheel for gherkin-official: started\n",
      "  Running setup.py bdist_wheel for gherkin-official: finished with status 'done'\n",
      "  Stored in directory: C:\\Users\\AlexTilley\\AppData\\Local\\pip\\Cache\\wheels\\bb\\2a\\41\\a1af4d689636120123c15d7e4f2a1a8fb4ef6884d922f76557\n",
      "Successfully built gherkin-official\n",
      "Installing collected packages: gherkin-official, bdd-tester\n",
      "Successfully installed bdd-tester-0.0.5 gherkin-official-4.1.3\n"
     ]
    }
   ],
   "source": [
    "import sys\n",
    "!{sys.executable} -m pip install bdd_tester"
   ]
  },
  {
   "cell_type": "code",
   "execution_count": null,
   "metadata": {},
   "outputs": [],
   "source": []
  }
 ],
 "metadata": {
  "kernelspec": {
   "display_name": "Python 3",
   "language": "python",
   "name": "python3"
  },
  "language_info": {
   "codemirror_mode": {
    "name": "ipython",
    "version": 3
   },
   "file_extension": ".py",
   "mimetype": "text/x-python",
   "name": "python",
   "nbconvert_exporter": "python",
   "pygments_lexer": "ipython3",
   "version": "3.7.1"
  }
 },
 "nbformat": 4,
 "nbformat_minor": 2
}
